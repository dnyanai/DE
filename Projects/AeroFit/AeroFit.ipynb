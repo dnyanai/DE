{
 "cells": [
  {
   "cell_type": "code",
   "execution_count": 3,
   "id": "99bab4bc-5b22-48fa-b666-f285454c0a8c",
   "metadata": {},
   "outputs": [
    {
     "name": "stdout",
     "output_type": "stream",
     "text": [
      "['/opt/homebrew/Caskroom/miniconda/base/envs/prj_aerofit/lib/python312.zip', '/opt/homebrew/Caskroom/miniconda/base/envs/prj_aerofit/lib/python3.12', '/opt/homebrew/Caskroom/miniconda/base/envs/prj_aerofit/lib/python3.12/lib-dynload', '', '/opt/homebrew/Caskroom/miniconda/base/envs/prj_aerofit/lib/python3.12/site-packages', '/Users/my-air/Desktop/DSA/Github/Data Engineering/DE-Notes/Projects/Scripts']\n"
     ]
    }
   ],
   "source": [
    "# import sys \n",
    "# sys.path.append(\"/Users/my-air/Desktop/DSA/Github/Data Engineering/DE-Notes/Projects/Scripts\")\n",
    "# print(sys.path)"
   ]
  },
  {
   "cell_type": "code",
   "execution_count": 4,
   "id": "d8d3ecd8-2536-40a1-87f3-079c26f184f5",
   "metadata": {},
   "outputs": [],
   "source": [
    "from CreateDataframe import find_and_make_dataset "
   ]
  },
  {
   "cell_type": "code",
   "execution_count": 5,
   "id": "bbcca162-a48b-44d1-8020-7d46cb5d59a8",
   "metadata": {},
   "outputs": [
    {
     "name": "stdout",
     "output_type": "stream",
     "text": [
      "Dataset folder found at: /Users/my-air/Desktop/DSA/Github/Data Engineering/DE-Notes/Projects/data \n",
      "\n",
      "Dataset file found: aerofit.zip\n",
      "\n",
      "Processing file: /Users/my-air/Desktop/DSA/Github/Data Engineering/DE-Notes/Projects/data/aerofit.zip \n",
      "\n",
      "['datasets/', 'datasets/aerofit_treadmill_data.csv']\n",
      "Extracting datasets/aerofit_treadmill_data.csv and converting it to a dataframe \n",
      "\n",
      "Sucessfully processed the data file: datasets/aerofit_treadmill_data.csv \n",
      "\n",
      "datasets/aerofit_treadmill_data.csv removed \n",
      "\n",
      "Directory removed\n",
      "New dataset added to dataframes dict: dict_keys(['aerofit'])\n"
     ]
    }
   ],
   "source": [
    "dataset = find_and_make_dataset(\"data\", \"aerofit\")"
   ]
  },
  {
   "cell_type": "markdown",
   "id": "015de4ba-fc90-4c6d-b5cd-8f5dccabb1a3",
   "metadata": {},
   "source": [
    "# Assignment\n",
    "The market research team at AeroFit wants to identify the characteristics of the target audience for each type of treadmill offered by the company, to provide a better recommendation of the treadmills to new customers. The team decides to investigate whether there are differences across the product with respect to customer characteristics.\n",
    "\n",
    "Perform descriptive analytics to create a customer profile for each AeroFit treadmill product by developing appropriate tables and charts. For each AeroFit treadmill product, construct two-way contingency tables and compute all conditional and marginal probabilities along with their insights/impact on the business.\n",
    "\n",
    "Product Portfolio:\n",
    "\n",
    "The KP281 is an entry-level treadmill that sells for $1,500;\n",
    "\n",
    "The KP481 is for mid-level runners and sells for $1,750;\n",
    "\n",
    "The KP781 treadmill is having advanced features and it sells for $2,500."
   ]
  },
  {
   "cell_type": "code",
   "execution_count": 6,
   "id": "0e74c700-b6e6-4d38-b97f-751b98663bfa",
   "metadata": {},
   "outputs": [
    {
     "data": {
      "text/plain": [
       "dict_keys(['aerofit'])"
      ]
     },
     "execution_count": 6,
     "metadata": {},
     "output_type": "execute_result"
    }
   ],
   "source": [
    "dataset.keys()"
   ]
  },
  {
   "cell_type": "code",
   "execution_count": 31,
   "id": "f2c74a63-8051-44b3-aa7b-bb0f9fda3958",
   "metadata": {},
   "outputs": [],
   "source": [
    "import pandas as pd \n",
    "import matplotlib.pyplot as plt\n",
    "import numpy as np"
   ]
  },
  {
   "cell_type": "code",
   "execution_count": 8,
   "id": "50c30595-b33f-4117-b4a1-7980ecc9b636",
   "metadata": {},
   "outputs": [],
   "source": [
    "df = dataset['aerofit'][\"aerofit_treadmill_data.csv\"] ## getting the dataframe stored in the dict key for aerofit dataset"
   ]
  },
  {
   "cell_type": "code",
   "execution_count": 9,
   "id": "eb808cf2-5bc5-447e-a1c6-e8fa0006666e",
   "metadata": {},
   "outputs": [
    {
     "data": {
      "text/html": [
       "<div>\n",
       "<style scoped>\n",
       "    .dataframe tbody tr th:only-of-type {\n",
       "        vertical-align: middle;\n",
       "    }\n",
       "\n",
       "    .dataframe tbody tr th {\n",
       "        vertical-align: top;\n",
       "    }\n",
       "\n",
       "    .dataframe thead th {\n",
       "        text-align: right;\n",
       "    }\n",
       "</style>\n",
       "<table border=\"1\" class=\"dataframe\">\n",
       "  <thead>\n",
       "    <tr style=\"text-align: right;\">\n",
       "      <th></th>\n",
       "      <th>Product</th>\n",
       "      <th>Age</th>\n",
       "      <th>Gender</th>\n",
       "      <th>Education</th>\n",
       "      <th>MaritalStatus</th>\n",
       "      <th>Usage</th>\n",
       "      <th>Fitness</th>\n",
       "      <th>Income</th>\n",
       "      <th>Miles</th>\n",
       "    </tr>\n",
       "  </thead>\n",
       "  <tbody>\n",
       "    <tr>\n",
       "      <th>0</th>\n",
       "      <td>KP281</td>\n",
       "      <td>18</td>\n",
       "      <td>Male</td>\n",
       "      <td>14</td>\n",
       "      <td>Single</td>\n",
       "      <td>3</td>\n",
       "      <td>4</td>\n",
       "      <td>29562</td>\n",
       "      <td>112</td>\n",
       "    </tr>\n",
       "    <tr>\n",
       "      <th>1</th>\n",
       "      <td>KP281</td>\n",
       "      <td>19</td>\n",
       "      <td>Male</td>\n",
       "      <td>15</td>\n",
       "      <td>Single</td>\n",
       "      <td>2</td>\n",
       "      <td>3</td>\n",
       "      <td>31836</td>\n",
       "      <td>75</td>\n",
       "    </tr>\n",
       "    <tr>\n",
       "      <th>2</th>\n",
       "      <td>KP281</td>\n",
       "      <td>19</td>\n",
       "      <td>Female</td>\n",
       "      <td>14</td>\n",
       "      <td>Partnered</td>\n",
       "      <td>4</td>\n",
       "      <td>3</td>\n",
       "      <td>30699</td>\n",
       "      <td>66</td>\n",
       "    </tr>\n",
       "    <tr>\n",
       "      <th>3</th>\n",
       "      <td>KP281</td>\n",
       "      <td>19</td>\n",
       "      <td>Male</td>\n",
       "      <td>12</td>\n",
       "      <td>Single</td>\n",
       "      <td>3</td>\n",
       "      <td>3</td>\n",
       "      <td>32973</td>\n",
       "      <td>85</td>\n",
       "    </tr>\n",
       "    <tr>\n",
       "      <th>4</th>\n",
       "      <td>KP281</td>\n",
       "      <td>20</td>\n",
       "      <td>Male</td>\n",
       "      <td>13</td>\n",
       "      <td>Partnered</td>\n",
       "      <td>4</td>\n",
       "      <td>2</td>\n",
       "      <td>35247</td>\n",
       "      <td>47</td>\n",
       "    </tr>\n",
       "  </tbody>\n",
       "</table>\n",
       "</div>"
      ],
      "text/plain": [
       "  Product  Age  Gender  Education MaritalStatus  Usage  Fitness  Income  Miles\n",
       "0   KP281   18    Male         14        Single      3        4   29562    112\n",
       "1   KP281   19    Male         15        Single      2        3   31836     75\n",
       "2   KP281   19  Female         14     Partnered      4        3   30699     66\n",
       "3   KP281   19    Male         12        Single      3        3   32973     85\n",
       "4   KP281   20    Male         13     Partnered      4        2   35247     47"
      ]
     },
     "execution_count": 9,
     "metadata": {},
     "output_type": "execute_result"
    }
   ],
   "source": [
    "df.head()"
   ]
  },
  {
   "cell_type": "code",
   "execution_count": 10,
   "id": "08ebe45d-e757-49b6-83fb-fb31ccf9a9ff",
   "metadata": {},
   "outputs": [
    {
     "data": {
      "text/plain": [
       "(180, 9)"
      ]
     },
     "execution_count": 10,
     "metadata": {},
     "output_type": "execute_result"
    }
   ],
   "source": [
    "df.shape"
   ]
  },
  {
   "cell_type": "code",
   "execution_count": 11,
   "id": "6a78073a-6252-4870-b09e-b6acfc712755",
   "metadata": {},
   "outputs": [
    {
     "data": {
      "text/plain": [
       "Index(['Product', 'Age', 'Gender', 'Education', 'MaritalStatus', 'Usage',\n",
       "       'Fitness', 'Income', 'Miles'],\n",
       "      dtype='object')"
      ]
     },
     "execution_count": 11,
     "metadata": {},
     "output_type": "execute_result"
    }
   ],
   "source": [
    "df.columns"
   ]
  },
  {
   "cell_type": "code",
   "execution_count": 12,
   "id": "b6ea31ae-0bbd-4001-9c41-a2721dec99f9",
   "metadata": {},
   "outputs": [
    {
     "data": {
      "text/plain": [
       "Product          object\n",
       "Age               int64\n",
       "Gender           object\n",
       "Education         int64\n",
       "MaritalStatus    object\n",
       "Usage             int64\n",
       "Fitness           int64\n",
       "Income            int64\n",
       "Miles             int64\n",
       "dtype: object"
      ]
     },
     "execution_count": 12,
     "metadata": {},
     "output_type": "execute_result"
    }
   ],
   "source": [
    "df.dtypes"
   ]
  },
  {
   "cell_type": "markdown",
   "id": "161558cf-c9c3-414a-9a39-d565627d84f7",
   "metadata": {},
   "source": [
    "#### Converting the object dtype t categeory dtype "
   ]
  },
  {
   "cell_type": "code",
   "execution_count": 13,
   "id": "60a00ea3-c4c9-4771-8938-112549ca8c3c",
   "metadata": {},
   "outputs": [],
   "source": [
    "df['Product'] = df['Product'].astype('category')\n",
    "df['Gender'] = df['Gender'].astype('category')\n",
    "df['MaritalStatus'] = df['MaritalStatus'].astype('category')"
   ]
  },
  {
   "cell_type": "code",
   "execution_count": 14,
   "id": "65fd4468-a54d-4809-aa92-6793eb6706bd",
   "metadata": {},
   "outputs": [
    {
     "name": "stdout",
     "output_type": "stream",
     "text": [
      "<class 'pandas.core.frame.DataFrame'>\n",
      "RangeIndex: 180 entries, 0 to 179\n",
      "Data columns (total 9 columns):\n",
      " #   Column         Non-Null Count  Dtype   \n",
      "---  ------         --------------  -----   \n",
      " 0   Product        180 non-null    category\n",
      " 1   Age            180 non-null    int64   \n",
      " 2   Gender         180 non-null    category\n",
      " 3   Education      180 non-null    int64   \n",
      " 4   MaritalStatus  180 non-null    category\n",
      " 5   Usage          180 non-null    int64   \n",
      " 6   Fitness        180 non-null    int64   \n",
      " 7   Income         180 non-null    int64   \n",
      " 8   Miles          180 non-null    int64   \n",
      "dtypes: category(3), int64(6)\n",
      "memory usage: 9.5 KB\n"
     ]
    }
   ],
   "source": [
    "df.info()"
   ]
  },
  {
   "cell_type": "markdown",
   "id": "e334852f-3a10-4c5b-9bc9-cf4ddd888d85",
   "metadata": {},
   "source": [
    "#### Understanding the skewness of the data "
   ]
  },
  {
   "cell_type": "code",
   "execution_count": 15,
   "id": "524bdcca-b141-41d3-bc1d-d86ea48e669b",
   "metadata": {},
   "outputs": [
    {
     "data": {
      "text/plain": [
       "Age          0.982161\n",
       "Education    0.622294\n",
       "Usage        0.739494\n",
       "Fitness      0.454800\n",
       "Income       1.291785\n",
       "Miles        1.724497\n",
       "dtype: float64"
      ]
     },
     "execution_count": 15,
     "metadata": {},
     "output_type": "execute_result"
    }
   ],
   "source": [
    "df.skew(numeric_only = True) ## numeric_only = True will not take the category dtype attributes "
   ]
  },
  {
   "cell_type": "markdown",
   "id": "332783cf-382f-4a22-8f76-7e4a8a91b18e",
   "metadata": {},
   "source": [
    "##### Here, Income and Miles is highly skewed indicating that there are some outliers or customers who have income and acquired miles way moret than the mean or average of the data. \n",
    "##### Even for Age we see it as moderately skewed which indicates that there are some data points on age of the customers which are greater than the mean age or avg age in the data"
   ]
  },
  {
   "cell_type": "code",
   "execution_count": 16,
   "id": "1ecd0182-2054-44a1-8d18-39f6c90106cf",
   "metadata": {},
   "outputs": [
    {
     "name": "stdout",
     "output_type": "stream",
     "text": [
      "Age count distribution: Age\n",
      "25    25\n",
      "23    18\n",
      "24    12\n",
      "26    12\n",
      "28     9\n",
      "35     8\n",
      "33     8\n",
      "30     7\n",
      "Name: count, dtype: int64\n",
      "\n",
      " Mean Age in data: 28.79\n",
      "\n",
      " Axes(0.125,0.11;0.775x0.77)\n"
     ]
    },
    {
     "data": {
      "image/png": "[encoded data removed]",
      "text/plain": [
       "<Figure size 640x480 with 1 Axes>"
      ]
     },
     "metadata": {},
     "output_type": "display_data"
    },
    {
     "name": "stdout",
     "output_type": "stream",
     "text": [
      "\n",
      " As per histogram we see that we have age distribution 28-40 similar to 25-26 age groups \n",
      "\n"
     ]
    }
   ],
   "source": [
    "print(\"Age count distribution:\",df.Age.value_counts().head(8))\n",
    "print(\"\\n Mean Age in data:\", round(df.Age.mean(),2))\n",
    "print(\"\\n\",df.Age.hist(legend = True))\n",
    "plt.axvline(df.Age.mean(), color = \"red\")\n",
    "plt.show()\n",
    "print(\"\\n As per histogram we see that we have age distribution 28-40 similar to 25-26 age groups \\n\")"
   ]
  },
  {
   "cell_type": "code",
   "execution_count": 17,
   "id": "11d4024a-5f47-4ea4-9105-80fdc524642f",
   "metadata": {},
   "outputs": [
    {
     "name": "stdout",
     "output_type": "stream",
     "text": [
      "Top income distribution: Income\n",
      "45480    14\n",
      "52302     9\n",
      "46617     8\n",
      "54576     8\n",
      "53439     8\n",
      "50028     7\n",
      "51165     7\n",
      "40932     6\n",
      "48891     5\n",
      "32973     5\n",
      "Name: count, dtype: int64\n",
      "\n",
      " Mean Income: 53719.58\n",
      "\n",
      " Axes(0.125,0.11;0.775x0.77)\n"
     ]
    },
    {
     "data": {
      "image/png": "[encoded data removed]",
      "text/plain": [
       "<Figure size 640x480 with 1 Axes>"
      ]
     },
     "metadata": {},
     "output_type": "display_data"
    },
    {
     "name": "stdout",
     "output_type": "stream",
     "text": [
      " \n",
      " As we see in the histogram, we have some customers - less no than most but a few customers are having Income a lot more than the mean Income \n",
      "\n"
     ]
    }
   ],
   "source": [
    "print(\"Top income distribution:\", df.Income.value_counts().nlargest(10))\n",
    "print(\"\\n Mean Income:\", round(df.Income.mean(),2))\n",
    "print(\"\\n\",df.Income.hist(legend = True))\n",
    "plt.axvline(df.Income.mean(), color= \"red\")\n",
    "plt.show()\n",
    "print(\" \\n As we see in the histogram, we have some customers - less no than most but a few customers are having Income a lot more than the mean Income \\n\")"
   ]
  },
  {
   "cell_type": "code",
   "execution_count": 18,
   "id": "497264ed-e743-408f-b7f8-42e037df4be5",
   "metadata": {},
   "outputs": [
    {
     "name": "stdout",
     "output_type": "stream",
     "text": [
      "Miles count distribution:  Miles\n",
      "85    27\n",
      "95    12\n",
      "66    10\n",
      "75    10\n",
      "47     9\n",
      "Name: count, dtype: int64\n",
      "\n",
      " Miles mean: 103.19\n",
      "Axes(0.125,0.11;0.775x0.77)\n"
     ]
    },
    {
     "data": {
      "image/png": "[encoded data removed]",
      "text/plain": [
       "<Figure size 640x480 with 1 Axes>"
      ]
     },
     "metadata": {},
     "output_type": "display_data"
    },
    {
     "name": "stdout",
     "output_type": "stream",
     "text": [
      "There is some skewness in Miles as seen in the histogram, with average miles around 85-100\n"
     ]
    }
   ],
   "source": [
    "print(\"Miles count distribution: \", df.Miles.value_counts().nlargest(5))\n",
    "print(\"\\n Miles mean:\", round(df.Miles.mean(),2))\n",
    "print(df.Miles.hist(legend = True))\n",
    "plt.axvline(df.Miles.mean(), color = \"red\")\n",
    "plt.show()\n",
    "print(\"There is some skewness in Miles as seen in the histogram, with average miles around 85-100\")"
   ]
  },
  {
   "cell_type": "code",
   "execution_count": 19,
   "id": "4b9765ec-2bd3-4589-b8de-3735e5a87b08",
   "metadata": {},
   "outputs": [
    {
     "name": "stdout",
     "output_type": "stream",
     "text": [
      "Axes(0.125,0.11;0.775x0.77)\n"
     ]
    },
    {
     "data": {
      "image/png": "[encoded data removed]",
      "text/plain": [
       "<Figure size 640x480 with 1 Axes>"
      ]
     },
     "metadata": {},
     "output_type": "display_data"
    }
   ],
   "source": [
    "print(df.Usage.hist( legend=True))\n",
    "plt.axvline(df.Usage.mean(), color=\"red\")\n",
    "plt.show()"
   ]
  },
  {
   "cell_type": "markdown",
   "id": "900bd6c2-3d87-4e9f-9515-84d1c7392865",
   "metadata": {},
   "source": [
    "#### Skewness is defined as the extend to which the data in a distribution is not symmetric around the mean \n",
    "#### -ve | (mean) +ve"
   ]
  },
  {
   "cell_type": "code",
   "execution_count": 21,
   "id": "ab4dc460-340a-478b-8bd2-ea4c9bf0427e",
   "metadata": {},
   "outputs": [
    {
     "data": {
      "text/html": [
       "<div>\n",
       "<style scoped>\n",
       "    .dataframe tbody tr th:only-of-type {\n",
       "        vertical-align: middle;\n",
       "    }\n",
       "\n",
       "    .dataframe tbody tr th {\n",
       "        vertical-align: top;\n",
       "    }\n",
       "\n",
       "    .dataframe thead th {\n",
       "        text-align: right;\n",
       "    }\n",
       "</style>\n",
       "<table border=\"1\" class=\"dataframe\">\n",
       "  <thead>\n",
       "    <tr style=\"text-align: right;\">\n",
       "      <th></th>\n",
       "      <th>Product</th>\n",
       "      <th>Age</th>\n",
       "      <th>Gender</th>\n",
       "      <th>Education</th>\n",
       "      <th>MaritalStatus</th>\n",
       "      <th>Usage</th>\n",
       "      <th>Fitness</th>\n",
       "      <th>Income</th>\n",
       "      <th>Miles</th>\n",
       "    </tr>\n",
       "  </thead>\n",
       "  <tbody>\n",
       "    <tr>\n",
       "      <th>count</th>\n",
       "      <td>180</td>\n",
       "      <td>180.000000</td>\n",
       "      <td>180</td>\n",
       "      <td>180.000000</td>\n",
       "      <td>180</td>\n",
       "      <td>180.000000</td>\n",
       "      <td>180.000000</td>\n",
       "      <td>180.000000</td>\n",
       "      <td>180.000000</td>\n",
       "    </tr>\n",
       "    <tr>\n",
       "      <th>unique</th>\n",
       "      <td>3</td>\n",
       "      <td>NaN</td>\n",
       "      <td>2</td>\n",
       "      <td>NaN</td>\n",
       "      <td>2</td>\n",
       "      <td>NaN</td>\n",
       "      <td>NaN</td>\n",
       "      <td>NaN</td>\n",
       "      <td>NaN</td>\n",
       "    </tr>\n",
       "    <tr>\n",
       "      <th>top</th>\n",
       "      <td>KP281</td>\n",
       "      <td>NaN</td>\n",
       "      <td>Male</td>\n",
       "      <td>NaN</td>\n",
       "      <td>Partnered</td>\n",
       "      <td>NaN</td>\n",
       "      <td>NaN</td>\n",
       "      <td>NaN</td>\n",
       "      <td>NaN</td>\n",
       "    </tr>\n",
       "    <tr>\n",
       "      <th>freq</th>\n",
       "      <td>80</td>\n",
       "      <td>NaN</td>\n",
       "      <td>104</td>\n",
       "      <td>NaN</td>\n",
       "      <td>107</td>\n",
       "      <td>NaN</td>\n",
       "      <td>NaN</td>\n",
       "      <td>NaN</td>\n",
       "      <td>NaN</td>\n",
       "    </tr>\n",
       "    <tr>\n",
       "      <th>mean</th>\n",
       "      <td>NaN</td>\n",
       "      <td>28.788889</td>\n",
       "      <td>NaN</td>\n",
       "      <td>15.572222</td>\n",
       "      <td>NaN</td>\n",
       "      <td>3.455556</td>\n",
       "      <td>3.311111</td>\n",
       "      <td>53719.577778</td>\n",
       "      <td>103.194444</td>\n",
       "    </tr>\n",
       "    <tr>\n",
       "      <th>std</th>\n",
       "      <td>NaN</td>\n",
       "      <td>6.943498</td>\n",
       "      <td>NaN</td>\n",
       "      <td>1.617055</td>\n",
       "      <td>NaN</td>\n",
       "      <td>1.084797</td>\n",
       "      <td>0.958869</td>\n",
       "      <td>16506.684226</td>\n",
       "      <td>51.863605</td>\n",
       "    </tr>\n",
       "    <tr>\n",
       "      <th>min</th>\n",
       "      <td>NaN</td>\n",
       "      <td>18.000000</td>\n",
       "      <td>NaN</td>\n",
       "      <td>12.000000</td>\n",
       "      <td>NaN</td>\n",
       "      <td>2.000000</td>\n",
       "      <td>1.000000</td>\n",
       "      <td>29562.000000</td>\n",
       "      <td>21.000000</td>\n",
       "    </tr>\n",
       "    <tr>\n",
       "      <th>25%</th>\n",
       "      <td>NaN</td>\n",
       "      <td>24.000000</td>\n",
       "      <td>NaN</td>\n",
       "      <td>14.000000</td>\n",
       "      <td>NaN</td>\n",
       "      <td>3.000000</td>\n",
       "      <td>3.000000</td>\n",
       "      <td>44058.750000</td>\n",
       "      <td>66.000000</td>\n",
       "    </tr>\n",
       "    <tr>\n",
       "      <th>50%</th>\n",
       "      <td>NaN</td>\n",
       "      <td>26.000000</td>\n",
       "      <td>NaN</td>\n",
       "      <td>16.000000</td>\n",
       "      <td>NaN</td>\n",
       "      <td>3.000000</td>\n",
       "      <td>3.000000</td>\n",
       "      <td>50596.500000</td>\n",
       "      <td>94.000000</td>\n",
       "    </tr>\n",
       "    <tr>\n",
       "      <th>75%</th>\n",
       "      <td>NaN</td>\n",
       "      <td>33.000000</td>\n",
       "      <td>NaN</td>\n",
       "      <td>16.000000</td>\n",
       "      <td>NaN</td>\n",
       "      <td>4.000000</td>\n",
       "      <td>4.000000</td>\n",
       "      <td>58668.000000</td>\n",
       "      <td>114.750000</td>\n",
       "    </tr>\n",
       "    <tr>\n",
       "      <th>max</th>\n",
       "      <td>NaN</td>\n",
       "      <td>50.000000</td>\n",
       "      <td>NaN</td>\n",
       "      <td>21.000000</td>\n",
       "      <td>NaN</td>\n",
       "      <td>7.000000</td>\n",
       "      <td>5.000000</td>\n",
       "      <td>104581.000000</td>\n",
       "      <td>360.000000</td>\n",
       "    </tr>\n",
       "  </tbody>\n",
       "</table>\n",
       "</div>"
      ],
      "text/plain": [
       "       Product         Age Gender   Education MaritalStatus       Usage  \\\n",
       "count      180  180.000000    180  180.000000           180  180.000000   \n",
       "unique       3         NaN      2         NaN             2         NaN   \n",
       "top      KP281         NaN   Male         NaN     Partnered         NaN   \n",
       "freq        80         NaN    104         NaN           107         NaN   \n",
       "mean       NaN   28.788889    NaN   15.572222           NaN    3.455556   \n",
       "std        NaN    6.943498    NaN    1.617055           NaN    1.084797   \n",
       "min        NaN   18.000000    NaN   12.000000           NaN    2.000000   \n",
       "25%        NaN   24.000000    NaN   14.000000           NaN    3.000000   \n",
       "50%        NaN   26.000000    NaN   16.000000           NaN    3.000000   \n",
       "75%        NaN   33.000000    NaN   16.000000           NaN    4.000000   \n",
       "max        NaN   50.000000    NaN   21.000000           NaN    7.000000   \n",
       "\n",
       "           Fitness         Income       Miles  \n",
       "count   180.000000     180.000000  180.000000  \n",
       "unique         NaN            NaN         NaN  \n",
       "top            NaN            NaN         NaN  \n",
       "freq           NaN            NaN         NaN  \n",
       "mean      3.311111   53719.577778  103.194444  \n",
       "std       0.958869   16506.684226   51.863605  \n",
       "min       1.000000   29562.000000   21.000000  \n",
       "25%       3.000000   44058.750000   66.000000  \n",
       "50%       3.000000   50596.500000   94.000000  \n",
       "75%       4.000000   58668.000000  114.750000  \n",
       "max       5.000000  104581.000000  360.000000  "
      ]
     },
     "execution_count": 21,
     "metadata": {},
     "output_type": "execute_result"
    }
   ],
   "source": [
    "df.describe(include=\"all\")"
   ]
  },
  {
   "cell_type": "markdown",
   "id": "a5fe3ddf-6471-4cda-a20c-5fdd2f31d434",
   "metadata": {},
   "source": [
    "#### Observations:\n",
    "<ol>\n",
    "<li>There are no missing values in any columns as evident by the count on each column.</li>\n",
    "<li> There are 3 unique products in the dataset with KP281 the most frequently bought product </li>\n",
    "<li> The average age in the dataset is 28.8 years. </li>\n",
    "<li> The min age of customers in the dataset is 18 yrs. And the max age of the customers in the dataset is 50 yrs.</li>\n",
    "<li> Out of 180 people there are 104 male customers thus male is the majority customer profile gender.</li>\n",
    "<li> Education profile of the customers in the dataset has an avg 16 yrs of education. </li>\n",
    "<li> the Standard deviation is very high for Miles and Income. That means there is more spread or variation in the datapoints from the mean. More variations in the dataset means there will be some outliers.</li>\n",
    "<ol>"
   ]
  },
  {
   "cell_type": "code",
   "execution_count": 40,
   "id": "a47619a4-97b9-4107-968d-1ef1ffbddfa0",
   "metadata": {},
   "outputs": [],
   "source": [
    "#describe on a series: \n",
    "# df[df.columns[1]].describe()"
   ]
  },
  {
   "cell_type": "code",
   "execution_count": 43,
   "id": "46b9106f-5983-4fa9-89d1-c5faeee6124f",
   "metadata": {},
   "outputs": [
    {
     "data": {
      "text/plain": [
       "Product          0\n",
       "Age              0\n",
       "Gender           0\n",
       "Education        0\n",
       "MaritalStatus    0\n",
       "Usage            0\n",
       "Fitness          0\n",
       "Income           0\n",
       "Miles            0\n",
       "dtype: int64"
      ]
     },
     "execution_count": 43,
     "metadata": {},
     "output_type": "execute_result"
    }
   ],
   "source": [
    "df.isna().sum() ##no missing values in the dataset"
   ]
  },
  {
   "cell_type": "code",
   "execution_count": 46,
   "id": "e0f771b3-8232-4d27-b621-9b03ae55d7c6",
   "metadata": {},
   "outputs": [
    {
     "data": {
      "text/plain": [
       "np.int64(0)"
      ]
     },
     "execution_count": 46,
     "metadata": {},
     "output_type": "execute_result"
    }
   ],
   "source": [
    "df.duplicated(subset=None, keep='first').sum() ##no dups in the dataset"
   ]
  },
  {
   "cell_type": "code",
   "execution_count": 57,
   "id": "665f5ac3-943f-4e1e-8c11-5e31fdb0ea1f",
   "metadata": {},
   "outputs": [
    {
     "data": {
      "text/plain": [
       "Index(['Product', 'Age', 'Gender', 'Education', 'MaritalStatus', 'Usage',\n",
       "       'Fitness', 'Income', 'Miles'],\n",
       "      dtype='object')"
      ]
     },
     "execution_count": 57,
     "metadata": {},
     "output_type": "execute_result"
    }
   ],
   "source": [
    "df.columns"
   ]
  },
  {
   "cell_type": "code",
   "execution_count": 58,
   "id": "c6f5fad1-36f5-447b-b7d1-02444821112f",
   "metadata": {},
   "outputs": [
    {
     "data": {
      "text/plain": [
       "Product\n",
       "KP281    80\n",
       "KP481    60\n",
       "KP781    40\n",
       "Name: count, dtype: int64"
      ]
     },
     "execution_count": 58,
     "metadata": {},
     "output_type": "execute_result"
    }
   ],
   "source": [
    "df[df.columns[0]].value_counts()"
   ]
  },
  {
   "cell_type": "code",
   "execution_count": 50,
   "id": "7996527c-c516-4d9a-85c7-b7bdc3c46174",
   "metadata": {},
   "outputs": [
    {
     "data": {
      "text/plain": [
       "Gender\n",
       "Male      104\n",
       "Female     76\n",
       "Name: count, dtype: int64"
      ]
     },
     "execution_count": 50,
     "metadata": {},
     "output_type": "execute_result"
    }
   ],
   "source": [
    "df[df.columns[2]].value_counts()"
   ]
  },
  {
   "cell_type": "code",
   "execution_count": 59,
   "id": "82177dbf-c7c1-4a93-b8d5-946d3de517d1",
   "metadata": {},
   "outputs": [
    {
     "data": {
      "text/plain": [
       "MaritalStatus\n",
       "Partnered    107\n",
       "Single        73\n",
       "Name: count, dtype: int64"
      ]
     },
     "execution_count": 59,
     "metadata": {},
     "output_type": "execute_result"
    }
   ],
   "source": [
    "df[df.columns[4]].value_counts()"
   ]
  },
  {
   "cell_type": "code",
   "execution_count": 63,
   "id": "f27b9e29-3f8e-411b-8ed9-74314fe21ecf",
   "metadata": {},
   "outputs": [
    {
     "data": {
      "text/plain": [
       "Product           3\n",
       "Age              32\n",
       "Gender            2\n",
       "Education         8\n",
       "MaritalStatus     2\n",
       "Usage             6\n",
       "Fitness           5\n",
       "Income           62\n",
       "Miles            37\n",
       "dtype: int64"
      ]
     },
     "execution_count": 63,
     "metadata": {},
     "output_type": "execute_result"
    }
   ],
   "source": [
    "df.nunique()"
   ]
  },
  {
   "cell_type": "code",
   "execution_count": null,
   "id": "bf18ead5-d833-4131-9aa2-57f9f6b04f28",
   "metadata": {},
   "outputs": [],
   "source": []
  },
  {
   "cell_type": "code",
   "execution_count": null,
   "id": "8249d184-4fd9-4450-b4e7-e1b164b00819",
   "metadata": {},
   "outputs": [],
   "source": []
  }
 ],
 "metadata": {
  "kernelspec": {
   "display_name": "Python 3 (ipykernel)",
   "language": "python",
   "name": "python3"
  },
  "language_info": {
   "codemirror_mode": {
    "name": "ipython",
    "version": 3
   },
   "file_extension": ".py",
   "mimetype": "text/x-python",
   "name": "python",
   "nbconvert_exporter": "python",
   "pygments_lexer": "ipython3",
   "version": "3.12.9"
  },
  "widgets": {
   "application/vnd.jupyter.widget-state+json": {
    "state": {},
    "version_major": 2,
    "version_minor": 0
   }
  }
 },
 "nbformat": 4,
 "nbformat_minor": 5
}
